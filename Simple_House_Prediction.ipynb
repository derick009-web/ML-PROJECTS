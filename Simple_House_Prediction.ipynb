{
  "nbformat": 4,
  "nbformat_minor": 0,
  "metadata": {
    "colab": {
      "provenance": [],
      "authorship_tag": "ABX9TyPLlu90xc3JFOPJ59LFRp0G",
      "include_colab_link": true
    },
    "kernelspec": {
      "name": "python3",
      "display_name": "Python 3"
    },
    "language_info": {
      "name": "python"
    }
  },
  "cells": [
    {
      "cell_type": "markdown",
      "metadata": {
        "id": "view-in-github",
        "colab_type": "text"
      },
      "source": [
        "<a href=\"https://colab.research.google.com/github/derick009-web/ML-PROJECTS/blob/main/Simple_House_Prediction.ipynb\" target=\"_parent\"><img src=\"https://colab.research.google.com/assets/colab-badge.svg\" alt=\"Open In Colab\"/></a>"
      ]
    },
    {
      "cell_type": "code",
      "execution_count": null,
      "metadata": {
        "colab": {
          "base_uri": "https://localhost:8080/"
        },
        "id": "D6gs9hwU74mY",
        "outputId": "186d4ff4-2a82-45ac-b3bc-88f854c4ac9d"
      },
      "outputs": [
        {
          "output_type": "stream",
          "name": "stdout",
          "text": [
            "predicted_price for a 1800 sqft house:$56938.37USD\n"
          ]
        }
      ],
      "source": [
        "from sklearn.linear_model import LinearRegression\n",
        "from sklearn.model_selection import train_test_split\n",
        "import pandas as pd\n",
        "data= {\n",
        "    'size':[750,300,850,1000,1200,1500],\n",
        "    'price':[10000,25000,30000,40000,45000,50000]\n",
        "}\n",
        "df=pd.DataFrame(data)\n",
        "x=df[['size']]\n",
        "y=df['price']\n",
        "model=LinearRegression()\n",
        "model.fit(x,y)\n",
        "new_house_size =pd.DataFrame({'size':[1800]})\n",
        "predicted_price=model.predict(new_house_size)\n",
        "print(f\"predicted_price for a 1800 sqft house:${predicted_price[0]:.2f}USD\")"
      ]
    },
    {
      "cell_type": "code",
      "source": [],
      "metadata": {
        "id": "P0tY31rjETIs"
      },
      "execution_count": null,
      "outputs": []
    }
  ]
}